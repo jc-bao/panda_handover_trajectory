{
 "cells": [
  {
   "cell_type": "code",
   "execution_count": 14,
   "metadata": {},
   "outputs": [],
   "source": [
    "import numpy as np\n",
    "import pickle\n",
    "with open('/Users/reedpan/Downloads/tmp/4.pkl', 'rb') as f:\n",
    "    data = pickle.load(f)"
   ]
  },
  {
   "cell_type": "code",
   "execution_count": 15,
   "metadata": {},
   "outputs": [],
   "source": [
    "data['panda0_finger_new'] = np.array(data['panda0_finger'])\n",
    "data['panda1_finger_new'] = np.array(data['panda1_finger'])\n",
    "data['panda0_ee_new'] = np.array(data['panda0_ee'])\n",
    "data['panda1_ee_new'] = np.array(data['panda1_ee'])\n",
    "\n",
    "data['panda0_finger_new'][:16] = 1\n",
    "data['panda0_finger_new'][16:37] = 0\n",
    "data['panda0_finger_new'][37:] = 1\n",
    "\n",
    "data['panda1_finger_new'][:36] = 1\n",
    "data['panda1_finger_new'][36:67] = 0\n",
    "data['panda1_finger_new'][67:] = 1\n",
    "\n",
    "data['panda1_ee_new'][..., 0] -= 0.06\n",
    "data['panda1_ee_new'][..., 1] += 0.04\n",
    "data['panda1_ee_new'][..., 1] -= 0.01"
   ]
  },
  {
   "cell_type": "code",
   "execution_count": 16,
   "metadata": {},
   "outputs": [],
   "source": [
    "with open('/Users/reedpan/Downloads/trajectory/handover1/handover1_4.pkl', 'wb') as f:\n",
    "    pickle.dump(data, f, protocol=2)"
   ]
  },
  {
   "cell_type": "code",
   "execution_count": 13,
   "metadata": {},
   "outputs": [
    {
     "name": "stdout",
     "output_type": "stream",
     "text": [
      "[ 0.4  -0.2   0.02] [-0.25  0.    0.02]\n"
     ]
    }
   ],
   "source": [
    "print(data['goal'], data['obj_init_pos'])"
   ]
  }
 ],
 "metadata": {
  "interpreter": {
   "hash": "e5eb6902d1900d2decb3bdf7ac16a0c61011659b39aa72c90b1b2afe1472d5be"
  },
  "kernelspec": {
   "display_name": "Python 3.9.6 ('rl')",
   "language": "python",
   "name": "python3"
  },
  "language_info": {
   "codemirror_mode": {
    "name": "ipython",
    "version": 3
   },
   "file_extension": ".py",
   "mimetype": "text/x-python",
   "name": "python",
   "nbconvert_exporter": "python",
   "pygments_lexer": "ipython3",
   "version": "3.9.6"
  },
  "orig_nbformat": 4
 },
 "nbformat": 4,
 "nbformat_minor": 2
}
