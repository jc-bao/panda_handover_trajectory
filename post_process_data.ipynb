{
 "cells": [
  {
   "cell_type": "code",
   "execution_count": 2,
   "metadata": {},
   "outputs": [],
   "source": [
    "import numpy as np\n",
    "import pickle\n",
    "with open('/Users/reedpan/Downloads/trajectory/exchange2/exchange_2.pkl', 'rb') as f:\n",
    "    data = pickle.load(f)"
   ]
  },
  {
   "cell_type": "code",
   "execution_count": null,
   "metadata": {},
   "outputs": [],
   "source": [
    "data['panda0_ee_new'] = np.array(data_origin['panda0_ee'])\n",
    "data['panda1_ee_new'] = np.array(data_origin['panda1_ee'])\n",
    "data['panda0_finger_new'] = data['panda0_finger']\n",
    "data['panda1_finger_new'] = data['panda1_finger']"
   ]
  },
  {
   "cell_type": "code",
   "execution_count": 3,
   "metadata": {},
   "outputs": [],
   "source": [
    "data['panda0_finger_new'] = np.array(data['panda0_finger'])\n",
    "data['panda1_finger_new'] = np.array(data['panda1_finger'])\n",
    "data['panda0_ee_new'] = np.array(data['panda0_ee'])\n",
    "data['panda1_ee_new'] = np.array(data['panda1_ee'])\n",
    "\n",
    "data['panda0_finger_new'][:6] = 1\n",
    "data['panda0_finger_new'][6:14] = 0\n",
    "data['panda0_finger_new'][14:19] = 1\n",
    "data['panda0_finger_new'][19:27] = 0\n",
    "data['panda0_finger_new'][27:34] = 1\n",
    "data['panda0_finger_new'][34:43] = 0\n",
    "data['panda0_finger_new'][43:] = 1\n",
    "\n",
    "data['panda1_finger_new'][:2] = 1\n",
    "data['panda1_finger_new'][2:18] = 0\n",
    "data['panda1_finger_new'][20:42] = 1\n",
    "data['panda1_finger_new'][42:51] = 0\n",
    "data['panda1_finger_new'][51:] = 1\n",
    "\n",
    "# data['panda1_ee_new'][..., 0] -= 0.06\n",
    "# data['panda1_ee_new'][..., 1] += 0.04\n",
    "# data['panda1_ee_new'][..., 1] -= 0.01"
   ]
  },
  {
   "cell_type": "code",
   "execution_count": 4,
   "metadata": {},
   "outputs": [],
   "source": [
    "with open('/Users/reedpan/Downloads/trajectory/exchange2/exchange_2.pkl', 'wb') as f:\n",
    "    pickle.dump(data, f, protocol=2)"
   ]
  },
  {
   "cell_type": "code",
   "execution_count": null,
   "metadata": {},
   "outputs": [],
   "source": [
    "print(data['goal'], data['obj_init_pos'])"
   ]
  }
 ],
 "metadata": {
  "interpreter": {
   "hash": "e5eb6902d1900d2decb3bdf7ac16a0c61011659b39aa72c90b1b2afe1472d5be"
  },
  "kernelspec": {
   "display_name": "Python 3.9.6 ('rl')",
   "language": "python",
   "name": "python3"
  },
  "language_info": {
   "codemirror_mode": {
    "name": "ipython",
    "version": 3
   },
   "file_extension": ".py",
   "mimetype": "text/x-python",
   "name": "python",
   "nbconvert_exporter": "python",
   "pygments_lexer": "ipython3",
   "version": "3.9.6"
  },
  "orig_nbformat": 4
 },
 "nbformat": 4,
 "nbformat_minor": 2
}
