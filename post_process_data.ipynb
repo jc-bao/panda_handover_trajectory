{
 "cells": [
  {
   "cell_type": "code",
   "execution_count": 37,
   "metadata": {},
   "outputs": [],
   "source": [
    "import numpy as np\n",
    "import pickle\n",
    "with open('/Users/reedpan/Downloads/trajectory/handover1/handover1_3_fix_gripper.pkl', 'rb') as f:\n",
    "    data = pickle.load(f)"
   ]
  },
  {
   "cell_type": "code",
   "execution_count": 44,
   "metadata": {},
   "outputs": [],
   "source": [
    "data['handover_points'] = [39]   \n",
    "data['panda0_open_finger_points'] = [39+1]\n",
    "data['panda0_finger'][:20] = [1]*20\n",
    "data['panda0_finger'][20:40] = [0]*20\n",
    "data['panda0_finger'][40:101] = [1]*61\n",
    "\n",
    "data['panda1_finger'][:39] = [1]*39\n",
    "data['panda1_finger'][39:90] = [0]*51\n",
    "data['panda1_finger'][90:101] = [1]*11\n",
    "\n",
    "data['panda1_ee'] = np.asarray(data['panda1_ee']) \n",
    "data['panda1_ee'] -= 0.06\n",
    "data['panda1_ee'] -= 0.04\n",
    "data['panda1_ee'] -= 0.01"
   ]
  },
  {
   "cell_type": "code",
   "execution_count": 45,
   "metadata": {},
   "outputs": [],
   "source": [
    "with open('handover1_3_fix_gripper.pkl', 'wb') as f:\n",
    "    pickle.dump(data, f, protocol=2)"
   ]
  },
  {
   "cell_type": "code",
   "execution_count": 36,
   "metadata": {},
   "outputs": [
    {
     "name": "stdout",
     "output_type": "stream",
     "text": [
      "101\n"
     ]
    }
   ],
   "source": [
    "print(len(data['panda0_ee']))"
   ]
  }
 ],
 "metadata": {
  "interpreter": {
   "hash": "e5eb6902d1900d2decb3bdf7ac16a0c61011659b39aa72c90b1b2afe1472d5be"
  },
  "kernelspec": {
   "display_name": "Python 3.9.6 ('rl')",
   "language": "python",
   "name": "python3"
  },
  "language_info": {
   "codemirror_mode": {
    "name": "ipython",
    "version": 3
   },
   "file_extension": ".py",
   "mimetype": "text/x-python",
   "name": "python",
   "nbconvert_exporter": "python",
   "pygments_lexer": "ipython3",
   "version": "3.9.6"
  },
  "orig_nbformat": 4
 },
 "nbformat": 4,
 "nbformat_minor": 2
}
