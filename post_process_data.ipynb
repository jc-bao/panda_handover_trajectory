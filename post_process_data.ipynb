{
 "cells": [
  {
   "cell_type": "code",
   "execution_count": 16,
   "metadata": {},
   "outputs": [],
   "source": [
    "import numpy as np\n",
    "import pickle\n",
    "with open('/Users/reedpan/Downloads/trajectory/handover1/handover1_3_fix_gripper.pkl', 'rb') as f:\n",
    "    data = pickle.load(f)"
   ]
  },
  {
   "cell_type": "code",
   "execution_count": 17,
   "metadata": {},
   "outputs": [],
   "source": [
    "data['panda0_finger'][:19] = [1]*19\n",
    "data['panda0_finger'][19:45] = [0]*(45-19)\n",
    "data['panda0_finger'][45:] = [1]*(101-45)\n",
    "data['handover_point'] = 44\n",
    "\n",
    "data['panda1_finger'][:44] = [0]*(44)\n",
    "data['panda1_finger'][44:81] = [1]*(81-44)\n",
    "data['panda1_finger'][81:] = [0]*(101-81)"
   ]
  },
  {
   "cell_type": "code",
   "execution_count": 18,
   "metadata": {},
   "outputs": [],
   "source": [
    "with open('handover1_3_fix_gripper.pkl', 'wb') as f:\n",
    "    pickle.dump(data, f, protocol=2)"
   ]
  }
 ],
 "metadata": {
  "interpreter": {
   "hash": "e5eb6902d1900d2decb3bdf7ac16a0c61011659b39aa72c90b1b2afe1472d5be"
  },
  "kernelspec": {
   "display_name": "Python 3.9.6 ('rl')",
   "language": "python",
   "name": "python3"
  },
  "language_info": {
   "codemirror_mode": {
    "name": "ipython",
    "version": 3
   },
   "file_extension": ".py",
   "mimetype": "text/x-python",
   "name": "python",
   "nbconvert_exporter": "python",
   "pygments_lexer": "ipython3",
   "version": "3.9.6"
  },
  "orig_nbformat": 4
 },
 "nbformat": 4,
 "nbformat_minor": 2
}
