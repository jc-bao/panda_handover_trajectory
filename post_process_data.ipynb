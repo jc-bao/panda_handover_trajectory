{
 "cells": [
  {
   "cell_type": "code",
   "execution_count": 33,
   "metadata": {},
   "outputs": [],
   "source": [
    "import numpy as np\n",
    "import pickle\n",
    "with open('/Users/reedpan/Downloads/trajectory/handover1/handover1_3_fix_gripper.pkl', 'rb') as f:\n",
    "    data = pickle.load(f)"
   ]
  },
  {
   "cell_type": "code",
   "execution_count": 34,
   "metadata": {},
   "outputs": [],
   "source": [
    "data['handover_points'] = [int(0.8*83)]   \n",
    "data['panda0_open_finger_points'] = [int(0.8*83)+1]\n",
    "data['panda0_close_finger_points'] = [int(0.8*36)]\n",
    "data['panda1_open_finger_points'] = [int(116*0.8)]\n",
    "data['panda1_close_finger_points'] = [int(0.8*83)]"
   ]
  },
  {
   "cell_type": "code",
   "execution_count": 35,
   "metadata": {},
   "outputs": [],
   "source": [
    "with open('handover1_3_fix_gripper.pkl', 'wb') as f:\n",
    "    pickle.dump(data, f, protocol=2)"
   ]
  }
 ],
 "metadata": {
  "interpreter": {
   "hash": "e5eb6902d1900d2decb3bdf7ac16a0c61011659b39aa72c90b1b2afe1472d5be"
  },
  "kernelspec": {
   "display_name": "Python 3.9.6 ('rl')",
   "language": "python",
   "name": "python3"
  },
  "language_info": {
   "codemirror_mode": {
    "name": "ipython",
    "version": 3
   },
   "file_extension": ".py",
   "mimetype": "text/x-python",
   "name": "python",
   "nbconvert_exporter": "python",
   "pygments_lexer": "ipython3",
   "version": "3.9.6"
  },
  "orig_nbformat": 4
 },
 "nbformat": 4,
 "nbformat_minor": 2
}
