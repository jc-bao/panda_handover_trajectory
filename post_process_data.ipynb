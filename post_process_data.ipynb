{
 "cells": [
  {
   "cell_type": "code",
   "execution_count": 9,
   "metadata": {},
   "outputs": [],
   "source": [
    "import numpy as np\n",
    "import pickle\n",
    "with open('/Users/reedpan/Downloads/trajectory/exchange2/exchange.pkl', 'rb') as f:\n",
    "    data = pickle.load(f)"
   ]
  },
  {
   "cell_type": "code",
   "execution_count": 10,
   "metadata": {},
   "outputs": [],
   "source": [
    "data['panda0_finger_new'] = np.array(data['panda0_finger'])\n",
    "data['panda1_finger_new'] = np.array(data['panda1_finger'])\n",
    "data['panda0_ee_new'] = np.array(data['panda0_ee'])\n",
    "data['panda1_ee_new'] = np.array(data['panda1_ee'])\n",
    "\n",
    "data['panda0_finger_new'][:5] = 1\n",
    "data['panda0_finger_new'][5:48] = 0\n",
    "data['panda0_finger_new'][48:110] = 1\n",
    "data['panda0_finger_new'][110:161] = 0\n",
    "data['panda0_finger_new'][161:] = 1\n",
    "\n",
    "data['panda1_finger_new'][:5] = 1\n",
    "data['panda1_finger_new'][5:15] = 0\n",
    "data['panda1_finger_new'][15:47] = 1\n",
    "data['panda1_finger_new'][47:58] = 0\n",
    "data['panda1_finger_new'][58:68] = 1\n",
    "data['panda1_finger_new'][68:111] = 0\n",
    "data['panda1_finger_new'][111:] = 1\n",
    "\n",
    "data['panda1_ee_new'][..., 0] -= 0.06\n",
    "data['panda1_ee_new'][..., 1] += 0.04\n",
    "data['panda1_ee_new'][..., 1] -= 0.01"
   ]
  },
  {
   "cell_type": "code",
   "execution_count": 11,
   "metadata": {},
   "outputs": [],
   "source": [
    "with open('/Users/reedpan/Downloads/trajectory/exchange2/exchange.pkl', 'wb') as f:\n",
    "    pickle.dump(data, f, protocol=2)"
   ]
  },
  {
   "cell_type": "code",
   "execution_count": 81,
   "metadata": {},
   "outputs": [
    {
     "name": "stdout",
     "output_type": "stream",
     "text": [
      "[-0.2  -0.1   0.02 -0.3   0.1   0.02] [-0.4   0.1   0.02  0.4   0.    0.02]\n"
     ]
    }
   ],
   "source": [
    "print(data['goal'], data['obj_init_pos'])"
   ]
  }
 ],
 "metadata": {
  "interpreter": {
   "hash": "e5eb6902d1900d2decb3bdf7ac16a0c61011659b39aa72c90b1b2afe1472d5be"
  },
  "kernelspec": {
   "display_name": "Python 3.9.6 ('rl')",
   "language": "python",
   "name": "python3"
  },
  "language_info": {
   "codemirror_mode": {
    "name": "ipython",
    "version": 3
   },
   "file_extension": ".py",
   "mimetype": "text/x-python",
   "name": "python",
   "nbconvert_exporter": "python",
   "pygments_lexer": "ipython3",
   "version": "3.9.6"
  },
  "orig_nbformat": 4
 },
 "nbformat": 4,
 "nbformat_minor": 2
}
