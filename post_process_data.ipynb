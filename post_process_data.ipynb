{
 "cells": [
  {
   "cell_type": "code",
   "execution_count": 60,
   "metadata": {},
   "outputs": [
    {
     "ename": "FileNotFoundError",
     "evalue": "[Errno 2] No such file or directory: '/Users/reedpan/Downloads/trajectory/handover1_rearrange1/re1_hand1_1_or.pkl'",
     "output_type": "error",
     "traceback": [
      "\u001b[0;31m---------------------------------------------------------------------------\u001b[0m",
      "\u001b[0;31mFileNotFoundError\u001b[0m                         Traceback (most recent call last)",
      "\u001b[0;32m/var/folders/sn/lv1hjjwn5f7_rxnyvmrwf0y40000gn/T/ipykernel_97684/2533133098.py\u001b[0m in \u001b[0;36m<module>\u001b[0;34m\u001b[0m\n\u001b[1;32m      3\u001b[0m \u001b[0;32mwith\u001b[0m \u001b[0mopen\u001b[0m\u001b[0;34m(\u001b[0m\u001b[0;34m'/Users/reedpan/Downloads/trajectory/handover1_rearrange1/re1_hand1_1.pkl'\u001b[0m\u001b[0;34m,\u001b[0m \u001b[0;34m'rb'\u001b[0m\u001b[0;34m)\u001b[0m \u001b[0;32mas\u001b[0m \u001b[0mf\u001b[0m\u001b[0;34m:\u001b[0m\u001b[0;34m\u001b[0m\u001b[0;34m\u001b[0m\u001b[0m\n\u001b[1;32m      4\u001b[0m     \u001b[0mdata\u001b[0m \u001b[0;34m=\u001b[0m \u001b[0mpickle\u001b[0m\u001b[0;34m.\u001b[0m\u001b[0mload\u001b[0m\u001b[0;34m(\u001b[0m\u001b[0mf\u001b[0m\u001b[0;34m)\u001b[0m\u001b[0;34m\u001b[0m\u001b[0;34m\u001b[0m\u001b[0m\n\u001b[0;32m----> 5\u001b[0;31m \u001b[0;32mwith\u001b[0m \u001b[0mopen\u001b[0m\u001b[0;34m(\u001b[0m\u001b[0;34m'/Users/reedpan/Downloads/trajectory/handover1_rearrange1/re1_hand1_1_or.pkl'\u001b[0m\u001b[0;34m,\u001b[0m \u001b[0;34m'rb'\u001b[0m\u001b[0;34m)\u001b[0m \u001b[0;32mas\u001b[0m \u001b[0mf\u001b[0m\u001b[0;34m:\u001b[0m\u001b[0;34m\u001b[0m\u001b[0;34m\u001b[0m\u001b[0m\n\u001b[0m\u001b[1;32m      6\u001b[0m     \u001b[0mdata_origin\u001b[0m \u001b[0;34m=\u001b[0m \u001b[0mpickle\u001b[0m\u001b[0;34m.\u001b[0m\u001b[0mload\u001b[0m\u001b[0;34m(\u001b[0m\u001b[0mf\u001b[0m\u001b[0;34m)\u001b[0m\u001b[0;34m\u001b[0m\u001b[0;34m\u001b[0m\u001b[0m\n",
      "\u001b[0;31mFileNotFoundError\u001b[0m: [Errno 2] No such file or directory: '/Users/reedpan/Downloads/trajectory/handover1_rearrange1/re1_hand1_1_or.pkl'"
     ]
    }
   ],
   "source": [
    "import numpy as np\n",
    "import pickle\n",
    "with open('/Users/reedpan/Downloads/trajectory/handover1_rearrange1/re1_hand1_1.pkl', 'rb') as f:\n",
    "    data = pickle.load(f)\n",
    "with open('/Users/reedpan/Downloads/trajectory/handover1_rearrange1/re1_hand1_1_origin.pkl', 'rb') as f:\n",
    "    data_origin = pickle.load(f)"
   ]
  },
  {
   "cell_type": "code",
   "execution_count": 66,
   "metadata": {},
   "outputs": [],
   "source": [
    "data['panda0_ee_new'] = np.array(data_origin['panda0_ee'])\n",
    "data['panda1_ee_new'] = np.array(data_origin['panda1_ee'])\n",
    "data['panda0_finger_new'] = data['panda0_finger']\n",
    "data['panda1_finger_new'] = data['panda1_finger']"
   ]
  },
  {
   "cell_type": "code",
   "execution_count": null,
   "metadata": {},
   "outputs": [],
   "source": [
    "data['panda0_finger_new'] = np.array(data['panda0_finger'])\n",
    "data['panda1_finger_new'] = np.array(data['panda1_finger'])\n",
    "data['panda0_ee_new'] = np.array(data['panda0_ee'])\n",
    "data['panda1_ee_new'] = np.array(data['panda1_ee'])\n",
    "\n",
    "data['panda0_finger_new'][:16] = 1\n",
    "data['panda0_finger_new'][16:37] = 0\n",
    "data['panda0_finger_new'][37:] = 1\n",
    "\n",
    "data['panda1_finger_new'][:36] = 1\n",
    "data['panda1_finger_new'][36:67] = 0\n",
    "data['panda1_finger_new'][67:] = 1\n",
    "\n",
    "# data['panda1_ee_new'][..., 0] -= 0.06\n",
    "# data['panda1_ee_new'][..., 1] += 0.04\n",
    "# data['panda1_ee_new'][..., 1] -= 0.01"
   ]
  },
  {
   "cell_type": "code",
   "execution_count": 67,
   "metadata": {},
   "outputs": [],
   "source": [
    "with open('/Users/reedpan/Downloads/trajectory/handover1_rearrange1/re1_hand1_1.pkl', 'wb') as f:\n",
    "    pickle.dump(data, f, protocol=2)"
   ]
  },
  {
   "cell_type": "code",
   "execution_count": null,
   "metadata": {},
   "outputs": [],
   "source": [
    "print(data['goal'], data['obj_init_pos'])"
   ]
  }
 ],
 "metadata": {
  "interpreter": {
   "hash": "e5eb6902d1900d2decb3bdf7ac16a0c61011659b39aa72c90b1b2afe1472d5be"
  },
  "kernelspec": {
   "display_name": "Python 3.9.6 ('rl')",
   "language": "python",
   "name": "python3"
  },
  "language_info": {
   "codemirror_mode": {
    "name": "ipython",
    "version": 3
   },
   "file_extension": ".py",
   "mimetype": "text/x-python",
   "name": "python",
   "nbconvert_exporter": "python",
   "pygments_lexer": "ipython3",
   "version": "3.9.6"
  },
  "orig_nbformat": 4
 },
 "nbformat": 4,
 "nbformat_minor": 2
}
